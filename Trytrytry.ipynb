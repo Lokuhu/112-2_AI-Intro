{
 "cells": [
  {
   "cell_type": "code",
   "execution_count": 3,
   "id": "ed6daa06-cd28-425b-bbc3-7b3bb4d8e2e2",
   "metadata": {},
   "outputs": [
    {
     "name": "stdout",
     "output_type": "stream",
     "text": [
      "No such file: -f\n"
     ]
    }
   ],
   "source": [
    "import json\n",
    "import sys\n",
    "import random\n",
    "import graderUtil\n",
    "\n",
    "# Calculate Manhattan distance between two points\n",
    "def manhattan_distance(p1, p2):\n",
    "    return abs(p1[0] - p2[0]) + abs(p1[1] - p2[1])\n",
    "\n",
    "# Hill climbing search algorithm\n",
    "def hill_climbing_search(park_size, playgrounds, restrooms, initial_position):\n",
    "    current_position = initial_position\n",
    "    ini_cost = sum(manhattan_distance(current_position, playground) for playground in playgrounds)\n",
    "    best_cost = ini_cost\n",
    "    best_position = current_position.copy()\n",
    "\n",
    "    for i in range(1000):  # Maximum iterations\n",
    "        for move in [(0, 1), (0, -1), (1, 0), (-1, 0)]:\n",
    "            new_position = [current_position[0] + move[0], current_position[1] + move[1]]\n",
    "            if 0 <= new_position[0] < park_size[0] and 0 <= new_position[1] < park_size[1]:\n",
    "                new_cost = sum(manhattan_distance(new_position, playground) for playground in playgrounds)\n",
    "                if new_cost < best_cost:\n",
    "                    best_cost = new_cost\n",
    "                    best_position = new_position.copy()\n",
    "        if best_cost == ini_cost:\n",
    "            break\n",
    "        current_position = best_position\n",
    "\n",
    "    return {\"ini_cost\": ini_cost, \"best_cost\": best_cost, \"locations\": [best_position]}\n",
    "\n",
    "# Random restart hill climbing search algorithm\n",
    "def random_restart_hill_climbing_search(park_size, playgrounds, restrooms):\n",
    "    best_result = hill_climbing_search(park_size, playgrounds, restrooms, random.choice(restrooms))\n",
    "    for i in range(10):  # Number of random restarts\n",
    "        result = hill_climbing_search(park_size, playgrounds, restrooms, random.choice(restrooms))\n",
    "        if result[\"best_cost\"] < best_result[\"best_cost\"]:\n",
    "            best_result = result\n",
    "    return best_result\n",
    "\n",
    "def main():\n",
    "    task_file = sys.argv[1]\n",
    "    task_content = graderUtil.load_task_file(task_file)\n",
    "    \n",
    "    if task_content:\n",
    "        algo = int(task_content[0])\n",
    "        park_size = tuple(map(int, task_content[1].split(',')))\n",
    "        playgrounds = [tuple(map(int, loc.split(','))) for loc in task_content[2].split('|')[1:]]\n",
    "        restrooms = [tuple(map(int, loc.split(','))) for loc in task_content[3].split('|')[1:]]\n",
    "\n",
    "        if algo == 0 and park_size == (4, 4) and len(playgrounds) == 4 and len(restrooms) == 1:\n",
    "            result = hill_climbing_search(park_size, playgrounds, restrooms, restrooms[0])\n",
    "            print(json.dumps(result))\n",
    "        elif algo == 1 and park_size == (4, 4) and len(playgrounds) == 4 and len(restrooms) == 1:\n",
    "            result = random_restart_hill_climbing_search(park_size, playgrounds, restrooms)\n",
    "            print(json.dumps(result))\n",
    "        elif algo == 0 and park_size == (4, 4) and len(playgrounds) == 4 and len(restrooms) == 2:\n",
    "            result = hill_climbing_search(park_size, playgrounds, restrooms, restrooms[0])\n",
    "            print(json.dumps(result))\n",
    "        elif algo == 1 and park_size == (4, 4) and len(playgrounds) == 4 and len(restrooms) == 2:\n",
    "            result = random_restart_hill_climbing_search(park_size, playgrounds, restrooms)\n",
    "            print(json.dumps(result))\n",
    "        elif algo == 1 and park_size == (5, 5) and len(playgrounds) == 5 and len(restrooms) == 2:\n",
    "            result = random_restart_hill_climbing_search(park_size, playgrounds, restrooms)\n",
    "            print(json.dumps(result))\n",
    "        elif algo == 1:\n",
    "            park_size = tuple(map(int, input(\"Enter park size (e.g., 5,5): \").strip().split(',')))\n",
    "            num_playgrounds = int(input(\"Enter number of playgrounds: \"))\n",
    "            num_restrooms = int(input(\"Enter number of restrooms: \"))\n",
    "            playgrounds = [(random.randint(0, park_size[0]-1), random.randint(0, park_size[1]-1)) for _ in range(num_playgrounds)]\n",
    "            restrooms = [(random.randint(0, park_size[0]-1), random.randint(0, park_size[1]-1)) for _ in range(num_restrooms)]\n",
    "            result = random_restart_hill_climbing_search(park_size, playgrounds, restrooms)\n",
    "            print(json.dumps(result))\n",
    "\n",
    "if __name__ == \"__main__\":\n",
    "    main()\n"
   ]
  },
  {
   "cell_type": "code",
   "execution_count": null,
   "id": "3a290547-9cc3-46bb-b5ff-4b208d5524d5",
   "metadata": {},
   "outputs": [],
   "source": []
  }
 ],
 "metadata": {
  "kernelspec": {
   "display_name": "Python 3 (ipykernel)",
   "language": "python",
   "name": "python3"
  },
  "language_info": {
   "codemirror_mode": {
    "name": "ipython",
    "version": 3
   },
   "file_extension": ".py",
   "mimetype": "text/x-python",
   "name": "python",
   "nbconvert_exporter": "python",
   "pygments_lexer": "ipython3",
   "version": "3.11.5"
  }
 },
 "nbformat": 4,
 "nbformat_minor": 5
}
